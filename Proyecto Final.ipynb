{
 "cells": [
  {
   "cell_type": "markdown",
   "id": "7aa88f74",
   "metadata": {},
   "source": [
    "## Proyecto Final Introdución a Python para Ciencia Datos"
   ]
  },
  {
   "cell_type": "markdown",
   "id": "4eac7e0f",
   "metadata": {},
   "source": [
    "### Etapa 1"
   ]
  },
  {
   "cell_type": "markdown",
   "id": "11565eb9",
   "metadata": {},
   "source": [
    "descarga dataset de : \n",
    "https://www.kaggle.com/code/mpwolke/world-cup-date-preparation/data\n",
    "https://www.kaggle.com/datasets/cashncarry/fifaworldranking/metadata"
   ]
  },
  {
   "cell_type": "markdown",
   "id": "f0433859",
   "metadata": {},
   "source": [
    "### Etapa 2\n",
    "#### a) Importacion de Paquetes"
   ]
  },
  {
   "cell_type": "code",
   "execution_count": 1,
   "id": "308752f8",
   "metadata": {},
   "outputs": [],
   "source": [
    "import pandas as pd\n",
    "import numpy as np\n",
    "import matplotlib.pyplot as plt\n",
    "import seaborn as sns\n",
    "import datetime as dt"
   ]
  },
  {
   "cell_type": "markdown",
   "id": "1f1e7937",
   "metadata": {},
   "source": [
    "#### b) Carga de dataset"
   ]
  },
  {
   "cell_type": "code",
   "execution_count": 2,
   "id": "16a78ffd",
   "metadata": {},
   "outputs": [],
   "source": [
    "path = r'/home/diego/Win/Visualización Python/Proyecto Final'\n",
    "\n",
    "\n",
    "df_rank = pd.read_csv(path+'/fifa_ranking-2022-08-25.csv',sep=',', header=0, index_col=False\n",
    "                          , encoding='latin-1', engine='python' )\n",
    "\n",
    "df_wc = pd.read_csv(path+'/matches.csv',sep=',', header=0, index_col=False\n",
    "                          , encoding='latin-1', engine='python' )\n",
    "\n",
    "#salaries.drop(\"Unnamed: 0\", inplace =True , axis =1)"
   ]
  },
  {
   "cell_type": "markdown",
   "id": "b4591dd0",
   "metadata": {},
   "source": [
    "#### c) 5 Tecnicas de Exploracion"
   ]
  },
  {
   "cell_type": "code",
   "execution_count": null,
   "id": "4d05588c",
   "metadata": {},
   "outputs": [],
   "source": []
  },
  {
   "cell_type": "markdown",
   "id": "9edc8678",
   "metadata": {},
   "source": [
    "### Etapa 3\n",
    "#### a) Seleccion de columnas"
   ]
  },
  {
   "cell_type": "code",
   "execution_count": null,
   "id": "153e6fc9",
   "metadata": {},
   "outputs": [],
   "source": []
  },
  {
   "cell_type": "markdown",
   "id": "1e721306",
   "metadata": {},
   "source": [
    "#### b) Validacion de tipos"
   ]
  },
  {
   "cell_type": "code",
   "execution_count": null,
   "id": "ebc38371",
   "metadata": {},
   "outputs": [],
   "source": []
  },
  {
   "cell_type": "markdown",
   "id": "62939217",
   "metadata": {},
   "source": [
    "#### c)  Revision formatos de fecha"
   ]
  },
  {
   "cell_type": "code",
   "execution_count": null,
   "id": "2ac02817",
   "metadata": {},
   "outputs": [],
   "source": []
  },
  {
   "cell_type": "markdown",
   "id": "881f1201",
   "metadata": {},
   "source": [
    "#### d) Extracion de fecha año, mes y nombre mes"
   ]
  },
  {
   "cell_type": "code",
   "execution_count": null,
   "id": "3df2802f",
   "metadata": {},
   "outputs": [],
   "source": []
  },
  {
   "cell_type": "markdown",
   "id": "b0098d1e",
   "metadata": {},
   "source": [
    "#### e) Union de bases de datos"
   ]
  },
  {
   "cell_type": "code",
   "execution_count": null,
   "id": "f25079e0",
   "metadata": {},
   "outputs": [],
   "source": []
  },
  {
   "cell_type": "markdown",
   "id": "f05c2f43",
   "metadata": {},
   "source": [
    "### Etapa 4  (Limpieza)\n",
    "#### a) Valores Vacios"
   ]
  },
  {
   "cell_type": "code",
   "execution_count": null,
   "id": "39d43105",
   "metadata": {},
   "outputs": [],
   "source": []
  },
  {
   "cell_type": "markdown",
   "id": "8b5e0529",
   "metadata": {},
   "source": [
    "#### b) Reemplazo valores vacios"
   ]
  },
  {
   "cell_type": "code",
   "execution_count": null,
   "id": "f7921954",
   "metadata": {},
   "outputs": [],
   "source": []
  },
  {
   "cell_type": "markdown",
   "id": "95c5871c",
   "metadata": {},
   "source": [
    "#### c) Validacion valores duplicados"
   ]
  },
  {
   "cell_type": "code",
   "execution_count": null,
   "id": "fe2cd82b",
   "metadata": {},
   "outputs": [],
   "source": []
  },
  {
   "cell_type": "markdown",
   "id": "0d7b6e5f",
   "metadata": {},
   "source": [
    "#### d) Metodo validacion resultados de filas"
   ]
  },
  {
   "cell_type": "code",
   "execution_count": null,
   "id": "e487e470",
   "metadata": {},
   "outputs": [],
   "source": []
  },
  {
   "cell_type": "markdown",
   "id": "4a9a13bb",
   "metadata": {},
   "source": [
    "### Etapa 4 (Simplyficar)\n",
    "#### a) Agrupaciones"
   ]
  },
  {
   "cell_type": "code",
   "execution_count": null,
   "id": "6a46a4d4",
   "metadata": {},
   "outputs": [],
   "source": []
  },
  {
   "cell_type": "markdown",
   "id": "eaf11556",
   "metadata": {},
   "source": []
  },
  {
   "cell_type": "code",
   "execution_count": null,
   "id": "0550d7a0",
   "metadata": {},
   "outputs": [],
   "source": []
  },
  {
   "cell_type": "markdown",
   "id": "76b79cce",
   "metadata": {},
   "source": [
    "### Etapa 5 (Visualizacion)"
   ]
  },
  {
   "cell_type": "code",
   "execution_count": null,
   "id": "2c6d2119",
   "metadata": {},
   "outputs": [],
   "source": []
  }
 ],
 "metadata": {
  "kernelspec": {
   "display_name": "Python 3 (ipykernel)",
   "language": "python",
   "name": "python3"
  },
  "language_info": {
   "codemirror_mode": {
    "name": "ipython",
    "version": 3
   },
   "file_extension": ".py",
   "mimetype": "text/x-python",
   "name": "python",
   "nbconvert_exporter": "python",
   "pygments_lexer": "ipython3",
   "version": "3.9.12"
  }
 },
 "nbformat": 4,
 "nbformat_minor": 5
}
